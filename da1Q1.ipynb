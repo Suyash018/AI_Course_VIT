{
  "cells": [
    {
      "cell_type": "markdown",
      "metadata": {
        "id": "view-in-github",
        "colab_type": "text"
      },
      "source": [
        "<a href=\"https://colab.research.google.com/github/Suyash018/AI_Course_VIT/blob/main/da1Q1.ipynb\" target=\"_parent\"><img src=\"https://colab.research.google.com/assets/colab-badge.svg\" alt=\"Open In Colab\"/></a>"
      ]
    },
    {
      "cell_type": "code",
      "execution_count": null,
      "id": "94fa558a",
      "metadata": {
        "id": "94fa558a"
      },
      "outputs": [],
      "source": [
        "import pandas as pd\n",
        "import numpy as np\n"
      ]
    },
    {
      "cell_type": "code",
      "execution_count": null,
      "id": "f0735b57",
      "metadata": {
        "id": "f0735b57"
      },
      "outputs": [],
      "source": [
        "from sklearn.preprocessing import MinMaxScaler"
      ]
    },
    {
      "cell_type": "code",
      "execution_count": null,
      "id": "4067411e",
      "metadata": {
        "id": "4067411e"
      },
      "outputs": [],
      "source": [
        "dataframe =pd.read_csv(\"/content/heightWeight.csv\") \n"
      ]
    },
    {
      "cell_type": "code",
      "execution_count": null,
      "id": "d9d03b59",
      "metadata": {
        "colab": {
          "base_uri": "https://localhost:8080/"
        },
        "id": "d9d03b59",
        "outputId": "e4eb0387-9bd0-484b-fbd5-07145b576a4f"
      },
      "outputs": [
        {
          "output_type": "stream",
          "name": "stdout",
          "text": [
            "    height  weight\n",
            "0      6.3   81000\n",
            "1      6.3   79000\n",
            "2      6.2   65000\n",
            "3      6.1   60000\n",
            "4      6.1   72000\n",
            "5      6.1   82000\n",
            "6      6.1   76000\n",
            "7      6.1   79000\n",
            "8      6.1   85000\n",
            "9      6.1   74000\n",
            "10     6.0   66000\n",
            "11     6.0   80000\n",
            "12     6.0   85000\n",
            "13     6.0   62000\n",
            "14     6.0   78000\n",
            "15     6.0   75000\n",
            "16     6.0   82000\n",
            "17     6.0   73000\n",
            "18     6.0   78000\n",
            "19     5.9   75000\n",
            "20     5.9   79000\n",
            "21     5.9   79000\n",
            "22     5.9   69000\n",
            "23     5.9   72000\n",
            "24     5.9   72000\n",
            "25     5.9   76000\n",
            "26     5.9   62000\n",
            "27     5.9   69000\n",
            "28     5.8   65000\n",
            "29     5.8   78000\n",
            "30     5.8   73000\n",
            "31     5.8   68000\n",
            "32     5.8   65000\n",
            "33     5.8   68000\n",
            "34     5.7   61000\n",
            "35     5.7   80000\n",
            "36     5.7   61000\n",
            "37     5.6   72000\n",
            "38     5.6   74000\n",
            "39     5.4   78000\n"
          ]
        }
      ],
      "source": [
        "print(dataframe)"
      ]
    },
    {
      "cell_type": "code",
      "execution_count": null,
      "id": "34dba70b",
      "metadata": {
        "id": "34dba70b"
      },
      "outputs": [],
      "source": [
        "array = dataframe.values"
      ]
    },
    {
      "cell_type": "code",
      "execution_count": null,
      "id": "9709dd1d",
      "metadata": {
        "id": "9709dd1d"
      },
      "outputs": [],
      "source": [
        "X = array[:,0:40] \n",
        "Y = array[:,1] \n",
        "min= MinMaxScaler(feature_range=(-1, 1)) \n",
        "scal= min.fit(X)\n",
        "rescaledX=scal.transform(X) "
      ]
    },
    {
      "cell_type": "code",
      "execution_count": null,
      "id": "7e984048",
      "metadata": {
        "colab": {
          "base_uri": "https://localhost:8080/"
        },
        "id": "7e984048",
        "outputId": "b81e7c44-1b4f-4c36-8e27-927a786ac4f1"
      },
      "outputs": [
        {
          "output_type": "stream",
          "name": "stdout",
          "text": [
            "[[ 1.     0.68 ]\n",
            " [ 1.     0.52 ]\n",
            " [ 0.778 -0.6  ]\n",
            " [ 0.556 -1.   ]\n",
            " [ 0.556 -0.04 ]]\n"
          ]
        }
      ],
      "source": [
        "np.set_printoptions(precision=3) \n",
        "print(rescaledX[0:5,:])"
      ]
    },
    {
      "cell_type": "code",
      "execution_count": null,
      "id": "695067e6",
      "metadata": {
        "id": "695067e6"
      },
      "outputs": [],
      "source": [
        "from sklearn.preprocessing import StandardScaler \n",
        "\n",
        "X = array[:,0:40] \n",
        "Y = array[:,1] \n",
        "scaler = StandardScaler()\n",
        "rescaledX = scaler.fit_transform(X) "
      ]
    },
    {
      "cell_type": "code",
      "execution_count": null,
      "id": "2229407e",
      "metadata": {
        "colab": {
          "base_uri": "https://localhost:8080/"
        },
        "id": "2229407e",
        "outputId": "539e5552-4efe-41ab-dd29-79f58b5dc313"
      },
      "outputs": [
        {
          "output_type": "stream",
          "name": "stdout",
          "text": [
            "[[ 2.0204  1.1292]\n",
            " [ 2.0204  0.8397]\n",
            " [ 1.478  -1.1872]\n",
            " [ 0.9356 -1.911 ]\n",
            " [ 0.9356 -0.1737]\n",
            " [ 0.9356  1.274 ]\n",
            " [ 0.9356  0.4054]\n",
            " [ 0.9356  0.8397]\n",
            " [ 0.9356  1.7084]\n",
            " [ 0.9356  0.1158]\n",
            " [ 0.3932 -1.0424]\n",
            " [ 0.3932  0.9845]\n",
            " [ 0.3932  1.7084]\n",
            " [ 0.3932 -1.6215]\n",
            " [ 0.3932  0.6949]\n",
            " [ 0.3932  0.2606]\n",
            " [ 0.3932  1.274 ]\n",
            " [ 0.3932 -0.029 ]\n",
            " [ 0.3932  0.6949]\n",
            " [-0.1492  0.2606]\n",
            " [-0.1492  0.8397]\n",
            " [-0.1492  0.8397]\n",
            " [-0.1492 -0.6081]\n",
            " [-0.1492 -0.1737]\n",
            " [-0.1492 -0.1737]\n",
            " [-0.1492  0.4054]\n",
            " [-0.1492 -1.6215]\n",
            " [-0.1492 -0.6081]\n",
            " [-0.6915 -1.1872]\n",
            " [-0.6915  0.6949]\n",
            " [-0.6915 -0.029 ]\n",
            " [-0.6915 -0.7528]\n",
            " [-0.6915 -1.1872]\n",
            " [-0.6915 -0.7528]\n",
            " [-1.2339 -1.7663]\n",
            " [-1.2339  0.9845]\n",
            " [-1.2339 -1.7663]\n",
            " [-1.7763 -0.1737]\n",
            " [-1.7763  0.1158]\n",
            " [-2.861   0.6949]]\n"
          ]
        }
      ],
      "source": [
        "np.set_printoptions(precision=4) \n",
        "print(rescaledX[0:40,:])"
      ]
    },
    {
      "cell_type": "code",
      "execution_count": null,
      "id": "96fb4dc4",
      "metadata": {
        "id": "96fb4dc4"
      },
      "outputs": [],
      "source": []
    },
    {
      "cell_type": "code",
      "execution_count": null,
      "id": "45d00fd4",
      "metadata": {
        "id": "45d00fd4"
      },
      "outputs": [],
      "source": []
    },
    {
      "cell_type": "code",
      "execution_count": null,
      "id": "f4314986",
      "metadata": {
        "id": "f4314986"
      },
      "outputs": [],
      "source": []
    },
    {
      "cell_type": "code",
      "execution_count": null,
      "id": "ec1384a6",
      "metadata": {
        "id": "ec1384a6"
      },
      "outputs": [],
      "source": []
    },
    {
      "cell_type": "code",
      "execution_count": null,
      "id": "b2fd27ad",
      "metadata": {
        "id": "b2fd27ad"
      },
      "outputs": [],
      "source": []
    },
    {
      "cell_type": "code",
      "execution_count": null,
      "id": "0baac3f8",
      "metadata": {
        "id": "0baac3f8"
      },
      "outputs": [],
      "source": []
    },
    {
      "cell_type": "code",
      "execution_count": null,
      "id": "d86a0218",
      "metadata": {
        "id": "d86a0218"
      },
      "outputs": [],
      "source": []
    },
    {
      "cell_type": "code",
      "execution_count": null,
      "id": "0ff10699",
      "metadata": {
        "id": "0ff10699"
      },
      "outputs": [],
      "source": []
    }
  ],
  "metadata": {
    "kernelspec": {
      "display_name": "Python 3 (ipykernel)",
      "language": "python",
      "name": "python3"
    },
    "language_info": {
      "codemirror_mode": {
        "name": "ipython",
        "version": 3
      },
      "file_extension": ".py",
      "mimetype": "text/x-python",
      "name": "python",
      "nbconvert_exporter": "python",
      "pygments_lexer": "ipython3",
      "version": "3.9.12"
    },
    "colab": {
      "provenance": [],
      "include_colab_link": true
    }
  },
  "nbformat": 4,
  "nbformat_minor": 5
}